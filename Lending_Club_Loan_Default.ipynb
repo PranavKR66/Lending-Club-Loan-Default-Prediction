{
  "nbformat": 4,
  "nbformat_minor": 0,
  "metadata": {
    "colab": {
      "name": "Lending Club Loan Default.ipynb",
      "provenance": [],
      "toc_visible": true
    },
    "kernelspec": {
      "name": "python3",
      "display_name": "Python 3"
    }
  },
  "cells": [
    {
      "cell_type": "markdown",
      "metadata": {
        "id": "wKabvOh0-Lhi",
        "colab_type": "text"
      },
      "source": [
        "# Lending Club Loan Default Project\n",
        "\n",
        "## The Data\n",
        "\n",
        "LendingClub is a US peer-to-peer lending company, headquartered in San Francisco, California.[3] It was the first peer-to-peer lender to register its offerings as securities with the Securities and Exchange Commission (SEC), and to offer loan trading on a secondary market. LendingClub is the world's largest peer-to-peer lending platform.\n",
        "\n",
        "### Our Goal\n",
        "\n",
        "Given historical data on loans given out with information on whether or not the borrower defaulted (charge-off), can we build a model thatcan predict wether or nor a borrower will pay back their loan? This way in the future when we get a new potential customer we can assess whether or not they are likely to pay back the loan. Keep in mind classification metrics when evaluating the performance of your model!\n",
        "\n",
        "The \"loan_status\" column contains our label."
      ]
    },
    {
      "cell_type": "markdown",
      "metadata": {
        "id": "rPIK0Uq4-hHH",
        "colab_type": "text"
      },
      "source": [
        "# Import Libraries"
      ]
    },
    {
      "cell_type": "code",
      "metadata": {
        "id": "M-Fu-qW0-D46",
        "colab_type": "code",
        "colab": {}
      },
      "source": [
        "import pandas as pd\n",
        "import numpy as np\n",
        "import matplotlib.pyplot as plt\n",
        "import seaborn as sns\n",
        "from sklearn.model_selection import train_test_split \n",
        "from sklearn.preprocessing import MinMaxScaler\n",
        "import tensorflow as tf\n",
        "from tensorflow.keras.models import Sequential\n",
        "from tensorflow.keras.layers import Dense,Dropout\n",
        "from tensorflow.keras.callbacks import EarlyStopping\n",
        "from sklearn.metrics import classification_report,f1_score, accuracy_score, recall_score, roc_auc_score, roc_curve\n",
        "\n",
        "# might be needed depending on your version of Jupyter\n",
        "%matplotlib inline"
      ],
      "execution_count": 0,
      "outputs": []
    },
    {
      "cell_type": "markdown",
      "metadata": {
        "id": "exguKBxZ_J3v",
        "colab_type": "text"
      },
      "source": [
        "## Loading the data\n",
        "\n",
        "**First, Let's import the data info file which contains information about the attributes in the dataset**"
      ]
    },
    {
      "cell_type": "code",
      "metadata": {
        "id": "dULlM9n3-kO2",
        "colab_type": "code",
        "colab": {}
      },
      "source": [
        "data_info = pd.read_csv('lending_club_info.csv',index_col='LoanStatNew')"
      ],
      "execution_count": 0,
      "outputs": []
    },
    {
      "cell_type": "code",
      "metadata": {
        "id": "789oyz-8_Ncu",
        "colab_type": "code",
        "colab": {
          "base_uri": "https://localhost:8080/",
          "height": 34
        },
        "outputId": "582b765f-2896-481e-dc7e-4aefb93128b0"
      },
      "source": [
        "print(data_info.loc['revol_util']['Description'])"
      ],
      "execution_count": 404,
      "outputs": [
        {
          "output_type": "stream",
          "text": [
            "Revolving line utilization rate, or the amount of credit the borrower is using relative to all available revolving credit.\n"
          ],
          "name": "stdout"
        }
      ]
    },
    {
      "cell_type": "code",
      "metadata": {
        "id": "Pi71bAOp_Ym0",
        "colab_type": "code",
        "colab": {}
      },
      "source": [
        "def feat_info(col_name):\n",
        "    print(data_info.loc[col_name]['Description'])"
      ],
      "execution_count": 0,
      "outputs": []
    },
    {
      "cell_type": "code",
      "metadata": {
        "id": "elxhlXtR_aKp",
        "colab_type": "code",
        "colab": {
          "base_uri": "https://localhost:8080/",
          "height": 34
        },
        "outputId": "981f84fd-adde-445d-b405-bff73df84fe7"
      },
      "source": [
        "feat_info('mort_acc')"
      ],
      "execution_count": 406,
      "outputs": [
        {
          "output_type": "stream",
          "text": [
            "Number of mortgage accounts.\n"
          ],
          "name": "stdout"
        }
      ]
    },
    {
      "cell_type": "code",
      "metadata": {
        "id": "npDflxtA_bQC",
        "colab_type": "code",
        "colab": {}
      },
      "source": [
        "df = pd.read_csv('lending_club_loan_two.csv')"
      ],
      "execution_count": 0,
      "outputs": []
    },
    {
      "cell_type": "code",
      "metadata": {
        "id": "kCHDixmy_dSt",
        "colab_type": "code",
        "colab": {
          "base_uri": "https://localhost:8080/",
          "height": 588
        },
        "outputId": "68036849-a5e0-42df-9724-2c64297fa7ab"
      },
      "source": [
        "df.info()"
      ],
      "execution_count": 408,
      "outputs": [
        {
          "output_type": "stream",
          "text": [
            "<class 'pandas.core.frame.DataFrame'>\n",
            "RangeIndex: 396030 entries, 0 to 396029\n",
            "Data columns (total 27 columns):\n",
            " #   Column                Non-Null Count   Dtype  \n",
            "---  ------                --------------   -----  \n",
            " 0   loan_amnt             396030 non-null  float64\n",
            " 1   term                  396030 non-null  object \n",
            " 2   int_rate              396030 non-null  float64\n",
            " 3   installment           396030 non-null  float64\n",
            " 4   grade                 396030 non-null  object \n",
            " 5   sub_grade             396030 non-null  object \n",
            " 6   emp_title             373103 non-null  object \n",
            " 7   emp_length            377729 non-null  object \n",
            " 8   home_ownership        396030 non-null  object \n",
            " 9   annual_inc            396030 non-null  float64\n",
            " 10  verification_status   396030 non-null  object \n",
            " 11  issue_d               396030 non-null  object \n",
            " 12  loan_status           396030 non-null  object \n",
            " 13  purpose               396030 non-null  object \n",
            " 14  title                 394275 non-null  object \n",
            " 15  dti                   396030 non-null  float64\n",
            " 16  earliest_cr_line      396030 non-null  object \n",
            " 17  open_acc              396030 non-null  float64\n",
            " 18  pub_rec               396030 non-null  float64\n",
            " 19  revol_bal             396030 non-null  float64\n",
            " 20  revol_util            395754 non-null  float64\n",
            " 21  total_acc             396030 non-null  float64\n",
            " 22  initial_list_status   396030 non-null  object \n",
            " 23  application_type      396030 non-null  object \n",
            " 24  mort_acc              358235 non-null  float64\n",
            " 25  pub_rec_bankruptcies  395495 non-null  float64\n",
            " 26  address               396030 non-null  object \n",
            "dtypes: float64(12), object(15)\n",
            "memory usage: 81.6+ MB\n"
          ],
          "name": "stdout"
        }
      ]
    },
    {
      "cell_type": "markdown",
      "metadata": {
        "id": "0s-COXGP_h99",
        "colab_type": "text"
      },
      "source": [
        "# Section 1: Exploratory Data Analysis\n",
        "\n",
        "**OVERALL GOAL: Get an understanding for which variables are important, view summary statistics, and visualize the data**"
      ]
    },
    {
      "cell_type": "code",
      "metadata": {
        "id": "R_tz_yNP_e7G",
        "colab_type": "code",
        "colab": {
          "base_uri": "https://localhost:8080/",
          "height": 297
        },
        "outputId": "799e5f69-7f11-441b-b1b5-8e8dcab5ae9f"
      },
      "source": [
        "sns.countplot('loan_status',data = df)"
      ],
      "execution_count": 409,
      "outputs": [
        {
          "output_type": "execute_result",
          "data": {
            "text/plain": [
              "<matplotlib.axes._subplots.AxesSubplot at 0x7fabbb4a91d0>"
            ]
          },
          "metadata": {
            "tags": []
          },
          "execution_count": 409
        },
        {
          "output_type": "display_data",
          "data": {
            "image/png": "[encoded data removed]",
            "text/plain": [
              "<Figure size 432x288 with 1 Axes>"
            ]
          },
          "metadata": {
            "tags": [],
            "needs_background": "light"
          }
        }
      ]
    },
    {
      "cell_type": "code",
      "metadata": {
        "id": "ZS1dSW4d_qru",
        "colab_type": "code",
        "colab": {
          "base_uri": "https://localhost:8080/",
          "height": 299
        },
        "outputId": "e850819f-e738-4d24-8644-58201cc3e3f4"
      },
      "source": [
        "plt.figure(figsize=(12,4))\n",
        "sns.distplot(df['loan_amnt'],kde = False)"
      ],
      "execution_count": 410,
      "outputs": [
        {
          "output_type": "execute_result",
          "data": {
            "text/plain": [
              "<matplotlib.axes._subplots.AxesSubplot at 0x7faba804c320>"
            ]
          },
          "metadata": {
            "tags": []
          },
          "execution_count": 410
        },
        {
          "output_type": "display_data",
          "data": {
            "image/png": "[encoded data removed]",
            "text/plain": [
              "<Figure size 864x288 with 1 Axes>"
            ]
          },
          "metadata": {
            "tags": [],
            "needs_background": "light"
          }
        }
      ]
    },
    {
      "cell_type": "code",
      "metadata": {
        "id": "dfms8hFDAPGE",
        "colab_type": "code",
        "colab": {
          "base_uri": "https://localhost:8080/",
          "height": 297
        },
        "outputId": "52c3f974-6f7c-4671-f722-9184106accd4"
      },
      "source": [
        "sns.boxplot(x='loan_status',y='loan_amnt',data=df)"
      ],
      "execution_count": 411,
      "outputs": [
        {
          "output_type": "execute_result",
          "data": {
            "text/plain": [
              "<matplotlib.axes._subplots.AxesSubplot at 0x7faba706ad68>"
            ]
          },
          "metadata": {
            "tags": []
          },
          "execution_count": 411
        },
        {
          "output_type": "display_data",
          "data": {
            "image/png": "[encoded data removed]",
            "text/plain": [
              "<Figure size 432x288 with 1 Axes>"
            ]
          },
          "metadata": {
            "tags": [],
            "needs_background": "light"
          }
        }
      ]
    },
    {
      "cell_type": "markdown",
      "metadata": {
        "id": "XGnrglPhAYwK",
        "colab_type": "text"
      },
      "source": [
        "**Let's calculate the summary statistics for the loan amount, grouped by the loan_status**"
      ]
    },
    {
      "cell_type": "code",
      "metadata": {
        "id": "EE4rGb9_AS5A",
        "colab_type": "code",
        "colab": {
          "base_uri": "https://localhost:8080/",
          "height": 166
        },
        "outputId": "2dd95c6f-788a-4062-b681-a92fd20c866b"
      },
      "source": [
        "df[['loan_status','loan_amnt']].groupby(by='loan_status').describe()"
      ],
      "execution_count": 412,
      "outputs": [
        {
          "output_type": "execute_result",
          "data": {
            "text/html": [
              "<div>\n",
              "<style scoped>\n",
              "    .dataframe tbody tr th:only-of-type {\n",
              "        vertical-align: middle;\n",
              "    }\n",
              "\n",
              "    .dataframe tbody tr th {\n",
              "        vertical-align: top;\n",
              "    }\n",
              "\n",
              "    .dataframe thead tr th {\n",
              "        text-align: left;\n",
              "    }\n",
              "\n",
              "    .dataframe thead tr:last-of-type th {\n",
              "        text-align: right;\n",
              "    }\n",
              "</style>\n",
              "<table border=\"1\" class=\"dataframe\">\n",
              "  <thead>\n",
              "    <tr>\n",
              "      <th></th>\n",
              "      <th colspan=\"8\" halign=\"left\">loan_amnt</th>\n",
              "    </tr>\n",
              "    <tr>\n",
              "      <th></th>\n",
              "      <th>count</th>\n",
              "      <th>mean</th>\n",
              "      <th>std</th>\n",
              "      <th>min</th>\n",
              "      <th>25%</th>\n",
              "      <th>50%</th>\n",
              "      <th>75%</th>\n",
              "      <th>max</th>\n",
              "    </tr>\n",
              "    <tr>\n",
              "      <th>loan_status</th>\n",
              "      <th></th>\n",
              "      <th></th>\n",
              "      <th></th>\n",
              "      <th></th>\n",
              "      <th></th>\n",
              "      <th></th>\n",
              "      <th></th>\n",
              "      <th></th>\n",
              "    </tr>\n",
              "  </thead>\n",
              "  <tbody>\n",
              "    <tr>\n",
              "      <th>Charged Off</th>\n",
              "      <td>77673.0</td>\n",
              "      <td>15126.300967</td>\n",
              "      <td>8505.090557</td>\n",
              "      <td>1000.0</td>\n",
              "      <td>8525.0</td>\n",
              "      <td>14000.0</td>\n",
              "      <td>20000.0</td>\n",
              "      <td>40000.0</td>\n",
              "    </tr>\n",
              "    <tr>\n",
              "      <th>Fully Paid</th>\n",
              "      <td>318357.0</td>\n",
              "      <td>13866.878771</td>\n",
              "      <td>8302.319699</td>\n",
              "      <td>500.0</td>\n",
              "      <td>7500.0</td>\n",
              "      <td>12000.0</td>\n",
              "      <td>19225.0</td>\n",
              "      <td>40000.0</td>\n",
              "    </tr>\n",
              "  </tbody>\n",
              "</table>\n",
              "</div>"
            ],
            "text/plain": [
              "            loan_amnt                             ...                           \n",
              "                count          mean          std  ...      50%      75%      max\n",
              "loan_status                                       ...                           \n",
              "Charged Off   77673.0  15126.300967  8505.090557  ...  14000.0  20000.0  40000.0\n",
              "Fully Paid   318357.0  13866.878771  8302.319699  ...  12000.0  19225.0  40000.0\n",
              "\n",
              "[2 rows x 8 columns]"
            ]
          },
          "metadata": {
            "tags": []
          },
          "execution_count": 412
        }
      ]
    },
    {
      "cell_type": "markdown",
      "metadata": {
        "id": "5FIFYb8lAl48",
        "colab_type": "text"
      },
      "source": [
        "**Let's explore the Grade and SubGrade columns that LendingClub attributes to the loans.**"
      ]
    },
    {
      "cell_type": "code",
      "metadata": {
        "id": "pJTNf2yBATlX",
        "colab_type": "code",
        "colab": {
          "base_uri": "https://localhost:8080/",
          "height": 84
        },
        "outputId": "997c9337-8b7c-48f7-fc0c-8cd0a18a117c"
      },
      "source": [
        "print(df['grade'].unique())\n",
        "print(df['sub_grade'].unique())"
      ],
      "execution_count": 413,
      "outputs": [
        {
          "output_type": "stream",
          "text": [
            "['B' 'A' 'C' 'E' 'D' 'F' 'G']\n",
            "['B4' 'B5' 'B3' 'A2' 'C5' 'C3' 'A1' 'B2' 'C1' 'A5' 'E4' 'A4' 'A3' 'D1'\n",
            " 'C2' 'B1' 'D3' 'D5' 'D2' 'E1' 'E2' 'E5' 'F4' 'E3' 'D4' 'G1' 'F5' 'G2'\n",
            " 'C4' 'F1' 'F3' 'G5' 'G4' 'F2' 'G3']\n"
          ],
          "name": "stdout"
        }
      ]
    },
    {
      "cell_type": "code",
      "metadata": {
        "id": "3yP37YsjAjNR",
        "colab_type": "code",
        "colab": {
          "base_uri": "https://localhost:8080/",
          "height": 296
        },
        "outputId": "e6e46942-3a67-4866-ed09-03d5e04e3b5a"
      },
      "source": [
        "sns.countplot(x='grade',hue='loan_status',data=df)"
      ],
      "execution_count": 414,
      "outputs": [
        {
          "output_type": "execute_result",
          "data": {
            "text/plain": [
              "<matplotlib.axes._subplots.AxesSubplot at 0x7faba704c080>"
            ]
          },
          "metadata": {
            "tags": []
          },
          "execution_count": 414
        },
        {
          "output_type": "display_data",
          "data": {
            "image/png": "[encoded data removed]",
            "text/plain": [
              "<Figure size 432x288 with 1 Axes>"
            ]
          },
          "metadata": {
            "tags": [],
            "needs_background": "light"
          }
        }
      ]
    },
    {
      "cell_type": "code",
      "metadata": {
        "id": "M6o7w6TWArym",
        "colab_type": "code",
        "colab": {
          "base_uri": "https://localhost:8080/",
          "height": 297
        },
        "outputId": "c39258c6-cf18-478f-e76c-f62206af252e"
      },
      "source": [
        "plt.figure(figsize=(12,4))\n",
        "sns.countplot(x='sub_grade',data=df,order=df['sub_grade'].value_counts().index.sort_values(),palette='coolwarm')"
      ],
      "execution_count": 415,
      "outputs": [
        {
          "output_type": "execute_result",
          "data": {
            "text/plain": [
              "<matplotlib.axes._subplots.AxesSubplot at 0x7faba6fb0048>"
            ]
          },
          "metadata": {
            "tags": []
          },
          "execution_count": 415
        },
        {
          "output_type": "display_data",
          "data": {
            "image/png": "[encoded data removed]",
            "text/plain": [
              "<Figure size 864x288 with 1 Axes>"
            ]
          },
          "metadata": {
            "tags": [],
            "needs_background": "light"
          }
        }
      ]
    },
    {
      "cell_type": "code",
      "metadata": {
        "id": "6ZdLu7bAAvNq",
        "colab_type": "code",
        "colab": {
          "base_uri": "https://localhost:8080/",
          "height": 297
        },
        "outputId": "a7bc7b5d-a90e-41d1-8127-1ad4a4bec111"
      },
      "source": [
        "plt.figure(figsize=(12,4))\n",
        "sns.countplot(x='sub_grade',data=df,order=df['sub_grade'].value_counts().index.sort_values(),hue='loan_status',palette='coolwarm')"
      ],
      "execution_count": 416,
      "outputs": [
        {
          "output_type": "execute_result",
          "data": {
            "text/plain": [
              "<matplotlib.axes._subplots.AxesSubplot at 0x7faba6ecf8d0>"
            ]
          },
          "metadata": {
            "tags": []
          },
          "execution_count": 416
        },
        {
          "output_type": "display_data",
          "data": {
            "image/png": "[encoded data removed]",
            "text/plain": [
              "<Figure size 864x288 with 1 Axes>"
            ]
          },
          "metadata": {
            "tags": [],
            "needs_background": "light"
          }
        }
      ]
    },
    {
      "cell_type": "markdown",
      "metadata": {
        "id": "iFKxxRu1A06I",
        "colab_type": "text"
      },
      "source": [
        "**Since F and G grades don't get paid back often, let's explore them in depth**"
      ]
    },
    {
      "cell_type": "code",
      "metadata": {
        "id": "HhpdaELVAyF4",
        "colab_type": "code",
        "colab": {
          "base_uri": "https://localhost:8080/",
          "height": 297
        },
        "outputId": "363cab8e-63a4-4885-d6c8-d436763f704d"
      },
      "source": [
        "df['sub_grade'].value_counts().index.sort_values()[25:]\n",
        "df_vis = pd.DataFrame(df[['sub_grade','loan_status']][df['sub_grade'].isin(df['sub_grade'].value_counts().index.sort_values()[25:])])\n",
        "plt.figure(figsize=(12,4))\n",
        "sns.countplot(x='sub_grade',data=df_vis,order=df_vis['sub_grade'].value_counts().index.sort_values(),hue='loan_status',palette='coolwarm')"
      ],
      "execution_count": 417,
      "outputs": [
        {
          "output_type": "execute_result",
          "data": {
            "text/plain": [
              "<matplotlib.axes._subplots.AxesSubplot at 0x7fab61780e48>"
            ]
          },
          "metadata": {
            "tags": []
          },
          "execution_count": 417
        },
        {
          "output_type": "display_data",
          "data": {
            "image/png": "[encoded data removed]",
            "text/plain": [
              "<Figure size 864x288 with 1 Axes>"
            ]
          },
          "metadata": {
            "tags": [],
            "needs_background": "light"
          }
        }
      ]
    },
    {
      "cell_type": "markdown",
      "metadata": {
        "id": "XWdiUG8gBDf-",
        "colab_type": "text"
      },
      "source": [
        "**Let's convert the target variable into dummies**"
      ]
    },
    {
      "cell_type": "code",
      "metadata": {
        "id": "dT-gDlX8A8hF",
        "colab_type": "code",
        "colab": {
          "base_uri": "https://localhost:8080/",
          "height": 402
        },
        "outputId": "6e0643f9-b3f6-4655-8a25-c39d3a9de478"
      },
      "source": [
        "df['loan_repaid'] = pd.get_dummies(df['loan_status'],drop_first=True)\n",
        "df[['loan_repaid','loan_status']]"
      ],
      "execution_count": 418,
      "outputs": [
        {
          "output_type": "execute_result",
          "data": {
            "text/html": [
              "<div>\n",
              "<style scoped>\n",
              "    .dataframe tbody tr th:only-of-type {\n",
              "        vertical-align: middle;\n",
              "    }\n",
              "\n",
              "    .dataframe tbody tr th {\n",
              "        vertical-align: top;\n",
              "    }\n",
              "\n",
              "    .dataframe thead th {\n",
              "        text-align: right;\n",
              "    }\n",
              "</style>\n",
              "<table border=\"1\" class=\"dataframe\">\n",
              "  <thead>\n",
              "    <tr style=\"text-align: right;\">\n",
              "      <th></th>\n",
              "      <th>loan_repaid</th>\n",
              "      <th>loan_status</th>\n",
              "    </tr>\n",
              "  </thead>\n",
              "  <tbody>\n",
              "    <tr>\n",
              "      <th>0</th>\n",
              "      <td>1</td>\n",
              "      <td>Fully Paid</td>\n",
              "    </tr>\n",
              "    <tr>\n",
              "      <th>1</th>\n",
              "      <td>1</td>\n",
              "      <td>Fully Paid</td>\n",
              "    </tr>\n",
              "    <tr>\n",
              "      <th>2</th>\n",
              "      <td>1</td>\n",
              "      <td>Fully Paid</td>\n",
              "    </tr>\n",
              "    <tr>\n",
              "      <th>3</th>\n",
              "      <td>1</td>\n",
              "      <td>Fully Paid</td>\n",
              "    </tr>\n",
              "    <tr>\n",
              "      <th>4</th>\n",
              "      <td>0</td>\n",
              "      <td>Charged Off</td>\n",
              "    </tr>\n",
              "    <tr>\n",
              "      <th>...</th>\n",
              "      <td>...</td>\n",
              "      <td>...</td>\n",
              "    </tr>\n",
              "    <tr>\n",
              "      <th>396025</th>\n",
              "      <td>1</td>\n",
              "      <td>Fully Paid</td>\n",
              "    </tr>\n",
              "    <tr>\n",
              "      <th>396026</th>\n",
              "      <td>1</td>\n",
              "      <td>Fully Paid</td>\n",
              "    </tr>\n",
              "    <tr>\n",
              "      <th>396027</th>\n",
              "      <td>1</td>\n",
              "      <td>Fully Paid</td>\n",
              "    </tr>\n",
              "    <tr>\n",
              "      <th>396028</th>\n",
              "      <td>1</td>\n",
              "      <td>Fully Paid</td>\n",
              "    </tr>\n",
              "    <tr>\n",
              "      <th>396029</th>\n",
              "      <td>1</td>\n",
              "      <td>Fully Paid</td>\n",
              "    </tr>\n",
              "  </tbody>\n",
              "</table>\n",
              "<p>396030 rows × 2 columns</p>\n",
              "</div>"
            ],
            "text/plain": [
              "        loan_repaid  loan_status\n",
              "0                 1   Fully Paid\n",
              "1                 1   Fully Paid\n",
              "2                 1   Fully Paid\n",
              "3                 1   Fully Paid\n",
              "4                 0  Charged Off\n",
              "...             ...          ...\n",
              "396025            1   Fully Paid\n",
              "396026            1   Fully Paid\n",
              "396027            1   Fully Paid\n",
              "396028            1   Fully Paid\n",
              "396029            1   Fully Paid\n",
              "\n",
              "[396030 rows x 2 columns]"
            ]
          },
          "metadata": {
            "tags": []
          },
          "execution_count": 418
        }
      ]
    },
    {
      "cell_type": "markdown",
      "metadata": {
        "id": "xgAqNVaa_wf7",
        "colab_type": "text"
      },
      "source": [
        "## Let's explore correlation"
      ]
    },
    {
      "cell_type": "code",
      "metadata": {
        "id": "8iOukyLs_tzV",
        "colab_type": "code",
        "colab": {
          "base_uri": "https://localhost:8080/",
          "height": 452
        },
        "outputId": "9868184c-c45e-4f15-a4fc-883391f1502d"
      },
      "source": [
        "df.corr()"
      ],
      "execution_count": 419,
      "outputs": [
        {
          "output_type": "execute_result",
          "data": {
            "text/html": [
              "<div>\n",
              "<style scoped>\n",
              "    .dataframe tbody tr th:only-of-type {\n",
              "        vertical-align: middle;\n",
              "    }\n",
              "\n",
              "    .dataframe tbody tr th {\n",
              "        vertical-align: top;\n",
              "    }\n",
              "\n",
              "    .dataframe thead th {\n",
              "        text-align: right;\n",
              "    }\n",
              "</style>\n",
              "<table border=\"1\" class=\"dataframe\">\n",
              "  <thead>\n",
              "    <tr style=\"text-align: right;\">\n",
              "      <th></th>\n",
              "      <th>loan_amnt</th>\n",
              "      <th>int_rate</th>\n",
              "      <th>installment</th>\n",
              "      <th>annual_inc</th>\n",
              "      <th>dti</th>\n",
              "      <th>open_acc</th>\n",
              "      <th>pub_rec</th>\n",
              "      <th>revol_bal</th>\n",
              "      <th>revol_util</th>\n",
              "      <th>total_acc</th>\n",
              "      <th>mort_acc</th>\n",
              "      <th>pub_rec_bankruptcies</th>\n",
              "      <th>loan_repaid</th>\n",
              "    </tr>\n",
              "  </thead>\n",
              "  <tbody>\n",
              "    <tr>\n",
              "      <th>loan_amnt</th>\n",
              "      <td>1.000000</td>\n",
              "      <td>0.168921</td>\n",
              "      <td>0.953929</td>\n",
              "      <td>0.336887</td>\n",
              "      <td>0.016636</td>\n",
              "      <td>0.198556</td>\n",
              "      <td>-0.077779</td>\n",
              "      <td>0.328320</td>\n",
              "      <td>0.099911</td>\n",
              "      <td>0.223886</td>\n",
              "      <td>0.222315</td>\n",
              "      <td>-0.106539</td>\n",
              "      <td>-0.059836</td>\n",
              "    </tr>\n",
              "    <tr>\n",
              "      <th>int_rate</th>\n",
              "      <td>0.168921</td>\n",
              "      <td>1.000000</td>\n",
              "      <td>0.162758</td>\n",
              "      <td>-0.056771</td>\n",
              "      <td>0.079038</td>\n",
              "      <td>0.011649</td>\n",
              "      <td>0.060986</td>\n",
              "      <td>-0.011280</td>\n",
              "      <td>0.293659</td>\n",
              "      <td>-0.036404</td>\n",
              "      <td>-0.082583</td>\n",
              "      <td>0.057450</td>\n",
              "      <td>-0.247758</td>\n",
              "    </tr>\n",
              "    <tr>\n",
              "      <th>installment</th>\n",
              "      <td>0.953929</td>\n",
              "      <td>0.162758</td>\n",
              "      <td>1.000000</td>\n",
              "      <td>0.330381</td>\n",
              "      <td>0.015786</td>\n",
              "      <td>0.188973</td>\n",
              "      <td>-0.067892</td>\n",
              "      <td>0.316455</td>\n",
              "      <td>0.123915</td>\n",
              "      <td>0.202430</td>\n",
              "      <td>0.193694</td>\n",
              "      <td>-0.098628</td>\n",
              "      <td>-0.041082</td>\n",
              "    </tr>\n",
              "    <tr>\n",
              "      <th>annual_inc</th>\n",
              "      <td>0.336887</td>\n",
              "      <td>-0.056771</td>\n",
              "      <td>0.330381</td>\n",
              "      <td>1.000000</td>\n",
              "      <td>-0.081685</td>\n",
              "      <td>0.136150</td>\n",
              "      <td>-0.013720</td>\n",
              "      <td>0.299773</td>\n",
              "      <td>0.027871</td>\n",
              "      <td>0.193023</td>\n",
              "      <td>0.236320</td>\n",
              "      <td>-0.050162</td>\n",
              "      <td>0.053432</td>\n",
              "    </tr>\n",
              "    <tr>\n",
              "      <th>dti</th>\n",
              "      <td>0.016636</td>\n",
              "      <td>0.079038</td>\n",
              "      <td>0.015786</td>\n",
              "      <td>-0.081685</td>\n",
              "      <td>1.000000</td>\n",
              "      <td>0.136181</td>\n",
              "      <td>-0.017639</td>\n",
              "      <td>0.063571</td>\n",
              "      <td>0.088375</td>\n",
              "      <td>0.102128</td>\n",
              "      <td>-0.025439</td>\n",
              "      <td>-0.014558</td>\n",
              "      <td>-0.062413</td>\n",
              "    </tr>\n",
              "    <tr>\n",
              "      <th>open_acc</th>\n",
              "      <td>0.198556</td>\n",
              "      <td>0.011649</td>\n",
              "      <td>0.188973</td>\n",
              "      <td>0.136150</td>\n",
              "      <td>0.136181</td>\n",
              "      <td>1.000000</td>\n",
              "      <td>-0.018392</td>\n",
              "      <td>0.221192</td>\n",
              "      <td>-0.131420</td>\n",
              "      <td>0.680728</td>\n",
              "      <td>0.109205</td>\n",
              "      <td>-0.027732</td>\n",
              "      <td>-0.028012</td>\n",
              "    </tr>\n",
              "    <tr>\n",
              "      <th>pub_rec</th>\n",
              "      <td>-0.077779</td>\n",
              "      <td>0.060986</td>\n",
              "      <td>-0.067892</td>\n",
              "      <td>-0.013720</td>\n",
              "      <td>-0.017639</td>\n",
              "      <td>-0.018392</td>\n",
              "      <td>1.000000</td>\n",
              "      <td>-0.101664</td>\n",
              "      <td>-0.075910</td>\n",
              "      <td>0.019723</td>\n",
              "      <td>0.011552</td>\n",
              "      <td>0.699408</td>\n",
              "      <td>-0.019933</td>\n",
              "    </tr>\n",
              "    <tr>\n",
              "      <th>revol_bal</th>\n",
              "      <td>0.328320</td>\n",
              "      <td>-0.011280</td>\n",
              "      <td>0.316455</td>\n",
              "      <td>0.299773</td>\n",
              "      <td>0.063571</td>\n",
              "      <td>0.221192</td>\n",
              "      <td>-0.101664</td>\n",
              "      <td>1.000000</td>\n",
              "      <td>0.226346</td>\n",
              "      <td>0.191616</td>\n",
              "      <td>0.194925</td>\n",
              "      <td>-0.124532</td>\n",
              "      <td>0.010892</td>\n",
              "    </tr>\n",
              "    <tr>\n",
              "      <th>revol_util</th>\n",
              "      <td>0.099911</td>\n",
              "      <td>0.293659</td>\n",
              "      <td>0.123915</td>\n",
              "      <td>0.027871</td>\n",
              "      <td>0.088375</td>\n",
              "      <td>-0.131420</td>\n",
              "      <td>-0.075910</td>\n",
              "      <td>0.226346</td>\n",
              "      <td>1.000000</td>\n",
              "      <td>-0.104273</td>\n",
              "      <td>0.007514</td>\n",
              "      <td>-0.086751</td>\n",
              "      <td>-0.082373</td>\n",
              "    </tr>\n",
              "    <tr>\n",
              "      <th>total_acc</th>\n",
              "      <td>0.223886</td>\n",
              "      <td>-0.036404</td>\n",
              "      <td>0.202430</td>\n",
              "      <td>0.193023</td>\n",
              "      <td>0.102128</td>\n",
              "      <td>0.680728</td>\n",
              "      <td>0.019723</td>\n",
              "      <td>0.191616</td>\n",
              "      <td>-0.104273</td>\n",
              "      <td>1.000000</td>\n",
              "      <td>0.381072</td>\n",
              "      <td>0.042035</td>\n",
              "      <td>0.017893</td>\n",
              "    </tr>\n",
              "    <tr>\n",
              "      <th>mort_acc</th>\n",
              "      <td>0.222315</td>\n",
              "      <td>-0.082583</td>\n",
              "      <td>0.193694</td>\n",
              "      <td>0.236320</td>\n",
              "      <td>-0.025439</td>\n",
              "      <td>0.109205</td>\n",
              "      <td>0.011552</td>\n",
              "      <td>0.194925</td>\n",
              "      <td>0.007514</td>\n",
              "      <td>0.381072</td>\n",
              "      <td>1.000000</td>\n",
              "      <td>0.027239</td>\n",
              "      <td>0.073111</td>\n",
              "    </tr>\n",
              "    <tr>\n",
              "      <th>pub_rec_bankruptcies</th>\n",
              "      <td>-0.106539</td>\n",
              "      <td>0.057450</td>\n",
              "      <td>-0.098628</td>\n",
              "      <td>-0.050162</td>\n",
              "      <td>-0.014558</td>\n",
              "      <td>-0.027732</td>\n",
              "      <td>0.699408</td>\n",
              "      <td>-0.124532</td>\n",
              "      <td>-0.086751</td>\n",
              "      <td>0.042035</td>\n",
              "      <td>0.027239</td>\n",
              "      <td>1.000000</td>\n",
              "      <td>-0.009383</td>\n",
              "    </tr>\n",
              "    <tr>\n",
              "      <th>loan_repaid</th>\n",
              "      <td>-0.059836</td>\n",
              "      <td>-0.247758</td>\n",
              "      <td>-0.041082</td>\n",
              "      <td>0.053432</td>\n",
              "      <td>-0.062413</td>\n",
              "      <td>-0.028012</td>\n",
              "      <td>-0.019933</td>\n",
              "      <td>0.010892</td>\n",
              "      <td>-0.082373</td>\n",
              "      <td>0.017893</td>\n",
              "      <td>0.073111</td>\n",
              "      <td>-0.009383</td>\n",
              "      <td>1.000000</td>\n",
              "    </tr>\n",
              "  </tbody>\n",
              "</table>\n",
              "</div>"
            ],
            "text/plain": [
              "                      loan_amnt  int_rate  ...  pub_rec_bankruptcies  loan_repaid\n",
              "loan_amnt              1.000000  0.168921  ...             -0.106539    -0.059836\n",
              "int_rate               0.168921  1.000000  ...              0.057450    -0.247758\n",
              "installment            0.953929  0.162758  ...             -0.098628    -0.041082\n",
              "annual_inc             0.336887 -0.056771  ...             -0.050162     0.053432\n",
              "dti                    0.016636  0.079038  ...             -0.014558    -0.062413\n",
              "open_acc               0.198556  0.011649  ...             -0.027732    -0.028012\n",
              "pub_rec               -0.077779  0.060986  ...              0.699408    -0.019933\n",
              "revol_bal              0.328320 -0.011280  ...             -0.124532     0.010892\n",
              "revol_util             0.099911  0.293659  ...             -0.086751    -0.082373\n",
              "total_acc              0.223886 -0.036404  ...              0.042035     0.017893\n",
              "mort_acc               0.222315 -0.082583  ...              0.027239     0.073111\n",
              "pub_rec_bankruptcies  -0.106539  0.057450  ...              1.000000    -0.009383\n",
              "loan_repaid           -0.059836 -0.247758  ...             -0.009383     1.000000\n",
              "\n",
              "[13 rows x 13 columns]"
            ]
          },
          "metadata": {
            "tags": []
          },
          "execution_count": 419
        }
      ]
    },
    {
      "cell_type": "code",
      "metadata": {
        "id": "ISKbr9zo_zc3",
        "colab_type": "code",
        "colab": {
          "base_uri": "https://localhost:8080/",
          "height": 549
        },
        "outputId": "6256be53-ddc6-4d62-f236-510bb5c1ea27"
      },
      "source": [
        "plt.figure(figsize=(12,7))\n",
        "sns.heatmap(df.corr(),cmap = 'GnBu',annot=True)"
      ],
      "execution_count": 420,
      "outputs": [
        {
          "output_type": "execute_result",
          "data": {
            "text/plain": [
              "<matplotlib.axes._subplots.AxesSubplot at 0x7faba6ec5f28>"
            ]
          },
          "metadata": {
            "tags": []
          },
          "execution_count": 420
        },
        {
          "output_type": "display_data",
          "data": {
            "image/png": "[encoded data removed]",
            "text/plain": [
              "<Figure size 864x504 with 2 Axes>"
            ]
          },
          "metadata": {
            "tags": [],
            "needs_background": "light"
          }
        }
      ]
    },
    {
      "cell_type": "markdown",
      "metadata": {
        "id": "3TDWyXtG_6Ox",
        "colab_type": "text"
      },
      "source": [
        "**Installment and loan amount seem to be highly correlated. Let's visualize these variables**"
      ]
    },
    {
      "cell_type": "code",
      "metadata": {
        "id": "6a9VkqWm_2Kx",
        "colab_type": "code",
        "colab": {
          "base_uri": "https://localhost:8080/",
          "height": 296
        },
        "outputId": "a86d4952-b5be-42d2-c273-e36baaef6702"
      },
      "source": [
        "sns.scatterplot(x='installment',y='loan_amnt',data=df)"
      ],
      "execution_count": 421,
      "outputs": [
        {
          "output_type": "execute_result",
          "data": {
            "text/plain": [
              "<matplotlib.axes._subplots.AxesSubplot at 0x7faba6c67828>"
            ]
          },
          "metadata": {
            "tags": []
          },
          "execution_count": 421
        },
        {
          "output_type": "display_data",
          "data": {
            "image/png": "[encoded data removed]",
            "text/plain": [
              "<Figure size 432x288 with 1 Axes>"
            ]
          },
          "metadata": {
            "tags": [],
            "needs_background": "light"
          }
        }
      ]
    },
    {
      "cell_type": "markdown",
      "metadata": {
        "id": "2itW2xEKBQ-f",
        "colab_type": "text"
      },
      "source": [
        "**Let's visualize the correlation between the new target variable and the numeric attributes**"
      ]
    },
    {
      "cell_type": "code",
      "metadata": {
        "id": "KnFFfCJtBb0j",
        "colab_type": "code",
        "colab": {
          "base_uri": "https://localhost:8080/",
          "height": 365
        },
        "outputId": "97ebb573-e289-4404-9ac7-8f8feb8abe8c"
      },
      "source": [
        "plt.bar(df.corr()['loan_repaid'][:-1].sort_values().index,df.corr()['loan_repaid'][:-1].sort_values())\n",
        "plt.xticks(rotation=90)\n",
        "plt.show()"
      ],
      "execution_count": 422,
      "outputs": [
        {
          "output_type": "display_data",
          "data": {
            "image/png": "[encoded data removed]",
            "text/plain": [
              "<Figure size 432x288 with 1 Axes>"
            ]
          },
          "metadata": {
            "tags": [],
            "needs_background": "light"
          }
        }
      ]
    },
    {
      "cell_type": "markdown",
      "metadata": {
        "id": "z-nXWwKZBwEh",
        "colab_type": "text"
      },
      "source": [
        "# Section 2: Data PreProcessing\n",
        "\n",
        "**Section Goals: Remove or fill any missing data. Remove unnecessary or repetitive features. Convert categorical string features to dummy variables.**"
      ]
    },
    {
      "cell_type": "markdown",
      "metadata": {
        "id": "zyJPb4oEB5id",
        "colab_type": "text"
      },
      "source": [
        "## Missing Data\n",
        "\n",
        "**Let's explore this missing data columns. We use a variety of factors to decide whether or not they would be useful, to see if we should keep, discard, or fill in the missing data.**"
      ]
    },
    {
      "cell_type": "code",
      "metadata": {
        "id": "XpRmeEPgABFg",
        "colab_type": "code",
        "colab": {
          "base_uri": "https://localhost:8080/",
          "height": 504
        },
        "outputId": "a8195207-a60d-437b-96e6-3b89b54aaf87"
      },
      "source": [
        "df.isna().sum()/len(df) * 100"
      ],
      "execution_count": 423,
      "outputs": [
        {
          "output_type": "execute_result",
          "data": {
            "text/plain": [
              "loan_amnt               0.000000\n",
              "term                    0.000000\n",
              "int_rate                0.000000\n",
              "installment             0.000000\n",
              "grade                   0.000000\n",
              "sub_grade               0.000000\n",
              "emp_title               5.789208\n",
              "emp_length              4.621115\n",
              "home_ownership          0.000000\n",
              "annual_inc              0.000000\n",
              "verification_status     0.000000\n",
              "issue_d                 0.000000\n",
              "loan_status             0.000000\n",
              "purpose                 0.000000\n",
              "title                   0.443148\n",
              "dti                     0.000000\n",
              "earliest_cr_line        0.000000\n",
              "open_acc                0.000000\n",
              "pub_rec                 0.000000\n",
              "revol_bal               0.000000\n",
              "revol_util              0.069692\n",
              "total_acc               0.000000\n",
              "initial_list_status     0.000000\n",
              "application_type        0.000000\n",
              "mort_acc                9.543469\n",
              "pub_rec_bankruptcies    0.135091\n",
              "address                 0.000000\n",
              "loan_repaid             0.000000\n",
              "dtype: float64"
            ]
          },
          "metadata": {
            "tags": []
          },
          "execution_count": 423
        }
      ]
    },
    {
      "cell_type": "markdown",
      "metadata": {
        "id": "wv_MB2qjCH2u",
        "colab_type": "text"
      },
      "source": [
        "**Let's examine emp_title and emp_length to see whether it will be okay to drop them.**"
      ]
    },
    {
      "cell_type": "code",
      "metadata": {
        "id": "el5yv7_FB_Sv",
        "colab_type": "code",
        "colab": {
          "base_uri": "https://localhost:8080/",
          "height": 84
        },
        "outputId": "de03f036-e68d-45af-8311-a1c60800382a"
      },
      "source": [
        "print(feat_info('emp_title'))\n",
        "print(feat_info('emp_length'))"
      ],
      "execution_count": 424,
      "outputs": [
        {
          "output_type": "stream",
          "text": [
            "The job title supplied by the Borrower when applying for the loan.*\n",
            "None\n",
            "Employment length in years. Possible values are between 0 and 10 where 0 means less than one year and 10 means ten or more years. \n",
            "None\n"
          ],
          "name": "stdout"
        }
      ]
    },
    {
      "cell_type": "code",
      "metadata": {
        "id": "qtlUzz_ECMKU",
        "colab_type": "code",
        "colab": {
          "base_uri": "https://localhost:8080/",
          "height": 34
        },
        "outputId": "24f0f5db-9144-450d-a5f3-2bc4e4e2f8af"
      },
      "source": [
        "df['emp_title'].nunique()"
      ],
      "execution_count": 425,
      "outputs": [
        {
          "output_type": "execute_result",
          "data": {
            "text/plain": [
              "173105"
            ]
          },
          "metadata": {
            "tags": []
          },
          "execution_count": 425
        }
      ]
    },
    {
      "cell_type": "code",
      "metadata": {
        "id": "4NhXy9LQCPzA",
        "colab_type": "code",
        "colab": {
          "base_uri": "https://localhost:8080/",
          "height": 218
        },
        "outputId": "b5d69ae9-2b58-4dd1-93b3-cde4a8bf2848"
      },
      "source": [
        "df['emp_title'].value_counts()"
      ],
      "execution_count": 426,
      "outputs": [
        {
          "output_type": "execute_result",
          "data": {
            "text/plain": [
              "Teacher                             4389\n",
              "Manager                             4250\n",
              "Registered Nurse                    1856\n",
              "RN                                  1846\n",
              "Supervisor                          1830\n",
              "                                    ... \n",
              "Windel Marx Lane & Mittendorf          1\n",
              "Project Manager-Tubular Services       1\n",
              "Care Center Ministries                 1\n",
              "Quality Asurance Consultant            1\n",
              "Marketing Project Coordinator          1\n",
              "Name: emp_title, Length: 173105, dtype: int64"
            ]
          },
          "metadata": {
            "tags": []
          },
          "execution_count": 426
        }
      ]
    },
    {
      "cell_type": "markdown",
      "metadata": {
        "id": "MWeji_cuCV9Z",
        "colab_type": "text"
      },
      "source": [
        "**Realistically there are too many unique job titles to try to convert this to a dummy variable feature. Let's remove that emp_title column.**"
      ]
    },
    {
      "cell_type": "code",
      "metadata": {
        "id": "D4vqtbx4CRJQ",
        "colab_type": "code",
        "colab": {}
      },
      "source": [
        "df.drop('emp_title',axis=1,inplace=True)"
      ],
      "execution_count": 0,
      "outputs": []
    },
    {
      "cell_type": "code",
      "metadata": {
        "id": "RgANfuRgCYzK",
        "colab_type": "code",
        "colab": {
          "base_uri": "https://localhost:8080/",
          "height": 202
        },
        "outputId": "1d393b6c-dfe4-4d08-e028-053c1b2df7f3"
      },
      "source": [
        "sorted(df['emp_length'].dropna().unique())"
      ],
      "execution_count": 428,
      "outputs": [
        {
          "output_type": "execute_result",
          "data": {
            "text/plain": [
              "['1 year',\n",
              " '10+ years',\n",
              " '2 years',\n",
              " '3 years',\n",
              " '4 years',\n",
              " '5 years',\n",
              " '6 years',\n",
              " '7 years',\n",
              " '8 years',\n",
              " '9 years',\n",
              " '< 1 year']"
            ]
          },
          "metadata": {
            "tags": []
          },
          "execution_count": 428
        }
      ]
    },
    {
      "cell_type": "code",
      "metadata": {
        "id": "iLdOJaFXCbeq",
        "colab_type": "code",
        "colab": {
          "base_uri": "https://localhost:8080/",
          "height": 297
        },
        "outputId": "6f4c96e3-a802-423f-c44f-c5a5e3a70a96"
      },
      "source": [
        "plt.figure(figsize=(12,4))\n",
        "sns.countplot(x='emp_length',data=df,order=df['emp_length'].value_counts().sort_values(ascending = False).index)"
      ],
      "execution_count": 429,
      "outputs": [
        {
          "output_type": "execute_result",
          "data": {
            "text/plain": [
              "<matplotlib.axes._subplots.AxesSubplot at 0x7faba71f0e48>"
            ]
          },
          "metadata": {
            "tags": []
          },
          "execution_count": 429
        },
        {
          "output_type": "display_data",
          "data": {
            "image/png": "[encoded data removed]",
            "text/plain": [
              "<Figure size 864x288 with 1 Axes>"
            ]
          },
          "metadata": {
            "tags": [],
            "needs_background": "light"
          }
        }
      ]
    },
    {
      "cell_type": "code",
      "metadata": {
        "id": "Pcla2f5yCdZd",
        "colab_type": "code",
        "colab": {
          "base_uri": "https://localhost:8080/",
          "height": 297
        },
        "outputId": "b3a4e946-559f-476f-97a1-0bce60d49176"
      },
      "source": [
        "plt.figure(figsize=(12,4))\n",
        "sns.countplot(x='emp_length',data=df,hue='loan_status')"
      ],
      "execution_count": 430,
      "outputs": [
        {
          "output_type": "execute_result",
          "data": {
            "text/plain": [
              "<matplotlib.axes._subplots.AxesSubplot at 0x7faba6abd978>"
            ]
          },
          "metadata": {
            "tags": []
          },
          "execution_count": 430
        },
        {
          "output_type": "display_data",
          "data": {
            "image/png": "[encoded data removed]",
            "text/plain": [
              "<Figure size 864x288 with 1 Axes>"
            ]
          },
          "metadata": {
            "tags": [],
            "needs_background": "light"
          }
        }
      ]
    },
    {
      "cell_type": "markdown",
      "metadata": {
        "id": "q1Bp-1a2Cu4L",
        "colab_type": "text"
      },
      "source": [
        "**This still doesn't really inform us if there is a strong relationship between employment length and being charged off, what we want is the percentage of charge offs per category. Essentially informing us what percent of people per employment category didn't pay back their loan.**"
      ]
    },
    {
      "cell_type": "code",
      "metadata": {
        "id": "eHo8X-i2DwqY",
        "colab_type": "code",
        "colab": {}
      },
      "source": [
        "df_sub = df[['loan_status','emp_length']][df['loan_status'] == df['loan_status'].unique()[1]]\n",
        "df_denom = df[['loan_status','emp_length']].groupby('emp_length').count()"
      ],
      "execution_count": 0,
      "outputs": []
    },
    {
      "cell_type": "code",
      "metadata": {
        "id": "PYxU66-KG1Be",
        "colab_type": "code",
        "colab": {
          "base_uri": "https://localhost:8080/",
          "height": 402
        },
        "outputId": "28ea0547-ec4a-4e3a-c67f-1c19ca880e06"
      },
      "source": [
        "df_final = df_sub.groupby('emp_length').count().divide(df_denom)\n",
        "df_final"
      ],
      "execution_count": 432,
      "outputs": [
        {
          "output_type": "execute_result",
          "data": {
            "text/html": [
              "<div>\n",
              "<style scoped>\n",
              "    .dataframe tbody tr th:only-of-type {\n",
              "        vertical-align: middle;\n",
              "    }\n",
              "\n",
              "    .dataframe tbody tr th {\n",
              "        vertical-align: top;\n",
              "    }\n",
              "\n",
              "    .dataframe thead th {\n",
              "        text-align: right;\n",
              "    }\n",
              "</style>\n",
              "<table border=\"1\" class=\"dataframe\">\n",
              "  <thead>\n",
              "    <tr style=\"text-align: right;\">\n",
              "      <th></th>\n",
              "      <th>loan_status</th>\n",
              "    </tr>\n",
              "    <tr>\n",
              "      <th>emp_length</th>\n",
              "      <th></th>\n",
              "    </tr>\n",
              "  </thead>\n",
              "  <tbody>\n",
              "    <tr>\n",
              "      <th>1 year</th>\n",
              "      <td>0.199135</td>\n",
              "    </tr>\n",
              "    <tr>\n",
              "      <th>10+ years</th>\n",
              "      <td>0.184186</td>\n",
              "    </tr>\n",
              "    <tr>\n",
              "      <th>2 years</th>\n",
              "      <td>0.193262</td>\n",
              "    </tr>\n",
              "    <tr>\n",
              "      <th>3 years</th>\n",
              "      <td>0.195231</td>\n",
              "    </tr>\n",
              "    <tr>\n",
              "      <th>4 years</th>\n",
              "      <td>0.192385</td>\n",
              "    </tr>\n",
              "    <tr>\n",
              "      <th>5 years</th>\n",
              "      <td>0.192187</td>\n",
              "    </tr>\n",
              "    <tr>\n",
              "      <th>6 years</th>\n",
              "      <td>0.189194</td>\n",
              "    </tr>\n",
              "    <tr>\n",
              "      <th>7 years</th>\n",
              "      <td>0.194774</td>\n",
              "    </tr>\n",
              "    <tr>\n",
              "      <th>8 years</th>\n",
              "      <td>0.199760</td>\n",
              "    </tr>\n",
              "    <tr>\n",
              "      <th>9 years</th>\n",
              "      <td>0.200470</td>\n",
              "    </tr>\n",
              "    <tr>\n",
              "      <th>&lt; 1 year</th>\n",
              "      <td>0.206872</td>\n",
              "    </tr>\n",
              "  </tbody>\n",
              "</table>\n",
              "</div>"
            ],
            "text/plain": [
              "            loan_status\n",
              "emp_length             \n",
              "1 year         0.199135\n",
              "10+ years      0.184186\n",
              "2 years        0.193262\n",
              "3 years        0.195231\n",
              "4 years        0.192385\n",
              "5 years        0.192187\n",
              "6 years        0.189194\n",
              "7 years        0.194774\n",
              "8 years        0.199760\n",
              "9 years        0.200470\n",
              "< 1 year       0.206872"
            ]
          },
          "metadata": {
            "tags": []
          },
          "execution_count": 432
        }
      ]
    },
    {
      "cell_type": "code",
      "metadata": {
        "id": "JNzYFduBDQ9Q",
        "colab_type": "code",
        "colab": {
          "base_uri": "https://localhost:8080/",
          "height": 341
        },
        "outputId": "148ffa33-45b9-4244-8332-a71264c209cf"
      },
      "source": [
        "plt.bar(x=df_final.index,height=df_final.values.flatten())\n",
        "plt.xticks(rotation=90)"
      ],
      "execution_count": 433,
      "outputs": [
        {
          "output_type": "execute_result",
          "data": {
            "text/plain": [
              "([0, 1, 2, 3, 4, 5, 6, 7, 8, 9, 10],\n",
              " <a list of 11 Text major ticklabel objects>)"
            ]
          },
          "metadata": {
            "tags": []
          },
          "execution_count": 433
        },
        {
          "output_type": "display_data",
          "data": {
            "image/png": "[encoded data removed]",
            "text/plain": [
              "<Figure size 432x288 with 1 Axes>"
            ]
          },
          "metadata": {
            "tags": [],
            "needs_background": "light"
          }
        }
      ]
    },
    {
      "cell_type": "markdown",
      "metadata": {
        "id": "bSNRCBX2VpWE",
        "colab_type": "text"
      },
      "source": [
        "**Charge off rates are extremely similar across all employment lengths. We can drop the emp_length column.**"
      ]
    },
    {
      "cell_type": "code",
      "metadata": {
        "id": "Z3g_llXwDSFF",
        "colab_type": "code",
        "colab": {}
      },
      "source": [
        "df.drop('emp_length',axis=1,inplace=True)"
      ],
      "execution_count": 0,
      "outputs": []
    },
    {
      "cell_type": "markdown",
      "metadata": {
        "id": "az4CxuYqWAqe",
        "colab_type": "text"
      },
      "source": [
        "**Let's review the title column and the purpose column to determine of this is repeated information**"
      ]
    },
    {
      "cell_type": "code",
      "metadata": {
        "id": "zKNF6Q_DV2st",
        "colab_type": "code",
        "colab": {
          "base_uri": "https://localhost:8080/",
          "height": 67
        },
        "outputId": "a492d450-5136-42e7-cb9d-22bf01e38541"
      },
      "source": [
        "df['title'].unique()"
      ],
      "execution_count": 435,
      "outputs": [
        {
          "output_type": "execute_result",
          "data": {
            "text/plain": [
              "array(['Vacation', 'Debt consolidation', 'Credit card refinancing', ...,\n",
              "       'Credit buster ', 'Loanforpayoff', 'Toxic Debt Payoff'],\n",
              "      dtype=object)"
            ]
          },
          "metadata": {
            "tags": []
          },
          "execution_count": 435
        }
      ]
    },
    {
      "cell_type": "code",
      "metadata": {
        "id": "1hoyTtJ1WLD1",
        "colab_type": "code",
        "colab": {
          "base_uri": "https://localhost:8080/",
          "height": 84
        },
        "outputId": "8834a00b-7771-46bb-e684-ef230cc17c59"
      },
      "source": [
        "df['purpose'].unique()"
      ],
      "execution_count": 436,
      "outputs": [
        {
          "output_type": "execute_result",
          "data": {
            "text/plain": [
              "array(['vacation', 'debt_consolidation', 'credit_card',\n",
              "       'home_improvement', 'small_business', 'major_purchase', 'other',\n",
              "       'medical', 'wedding', 'car', 'moving', 'house', 'educational',\n",
              "       'renewable_energy'], dtype=object)"
            ]
          },
          "metadata": {
            "tags": []
          },
          "execution_count": 436
        }
      ]
    },
    {
      "cell_type": "markdown",
      "metadata": {
        "id": "TVCAMNQzWYBI",
        "colab_type": "text"
      },
      "source": [
        "**The title column is simply a string subcategory/description of the purpose column. We will drop the title column**"
      ]
    },
    {
      "cell_type": "code",
      "metadata": {
        "id": "Y3SY8borWPWf",
        "colab_type": "code",
        "colab": {}
      },
      "source": [
        "df.drop('title',axis=1,inplace=True)"
      ],
      "execution_count": 0,
      "outputs": []
    },
    {
      "cell_type": "markdown",
      "metadata": {
        "id": "snln5ExcWjP6",
        "colab_type": "text"
      },
      "source": [
        "**Let's explore the mort_acc feature**"
      ]
    },
    {
      "cell_type": "code",
      "metadata": {
        "id": "KFt-npehWea7",
        "colab_type": "code",
        "colab": {
          "base_uri": "https://localhost:8080/",
          "height": 34
        },
        "outputId": "465f4721-9f85-49d1-f74b-0aa1dc8feeec"
      },
      "source": [
        "feat_info('mort_acc')"
      ],
      "execution_count": 438,
      "outputs": [
        {
          "output_type": "stream",
          "text": [
            "Number of mortgage accounts.\n"
          ],
          "name": "stdout"
        }
      ]
    },
    {
      "cell_type": "code",
      "metadata": {
        "id": "PgIzQEjDWpG2",
        "colab_type": "code",
        "colab": {
          "base_uri": "https://localhost:8080/",
          "height": 588
        },
        "outputId": "f1791e6d-c4de-4e8a-d554-2e071324983d"
      },
      "source": [
        "df['mort_acc'].value_counts()"
      ],
      "execution_count": 439,
      "outputs": [
        {
          "output_type": "execute_result",
          "data": {
            "text/plain": [
              "0.0     139777\n",
              "1.0      60416\n",
              "2.0      49948\n",
              "3.0      38049\n",
              "4.0      27887\n",
              "5.0      18194\n",
              "6.0      11069\n",
              "7.0       6052\n",
              "8.0       3121\n",
              "9.0       1656\n",
              "10.0       865\n",
              "11.0       479\n",
              "12.0       264\n",
              "13.0       146\n",
              "14.0       107\n",
              "15.0        61\n",
              "16.0        37\n",
              "17.0        22\n",
              "18.0        18\n",
              "19.0        15\n",
              "20.0        13\n",
              "24.0        10\n",
              "22.0         7\n",
              "21.0         4\n",
              "25.0         4\n",
              "27.0         3\n",
              "23.0         2\n",
              "32.0         2\n",
              "26.0         2\n",
              "31.0         2\n",
              "30.0         1\n",
              "28.0         1\n",
              "34.0         1\n",
              "Name: mort_acc, dtype: int64"
            ]
          },
          "metadata": {
            "tags": []
          },
          "execution_count": 439
        }
      ]
    },
    {
      "cell_type": "code",
      "metadata": {
        "id": "I2WT-AisWtbr",
        "colab_type": "code",
        "colab": {
          "base_uri": "https://localhost:8080/",
          "height": 252
        },
        "outputId": "11db63f0-1367-4a31-fee8-daadc6502fee"
      },
      "source": [
        "df.corr()['mort_acc'].sort_values()"
      ],
      "execution_count": 440,
      "outputs": [
        {
          "output_type": "execute_result",
          "data": {
            "text/plain": [
              "int_rate               -0.082583\n",
              "dti                    -0.025439\n",
              "revol_util              0.007514\n",
              "pub_rec                 0.011552\n",
              "pub_rec_bankruptcies    0.027239\n",
              "loan_repaid             0.073111\n",
              "open_acc                0.109205\n",
              "installment             0.193694\n",
              "revol_bal               0.194925\n",
              "loan_amnt               0.222315\n",
              "annual_inc              0.236320\n",
              "total_acc               0.381072\n",
              "mort_acc                1.000000\n",
              "Name: mort_acc, dtype: float64"
            ]
          },
          "metadata": {
            "tags": []
          },
          "execution_count": 440
        }
      ]
    },
    {
      "cell_type": "markdown",
      "metadata": {
        "id": "sp4-2We6XhI3",
        "colab_type": "text"
      },
      "source": [
        "**Since mort_acc and total_acc are correlated, we will try to impute based on the total_acc**"
      ]
    },
    {
      "cell_type": "code",
      "metadata": {
        "id": "r1pmdBiOXSz6",
        "colab_type": "code",
        "colab": {
          "base_uri": "https://localhost:8080/",
          "height": 235
        },
        "outputId": "14294ad4-eb3d-4e4e-bf4b-4a28ed4d212e"
      },
      "source": [
        "df_group = df.groupby('total_acc').mean()['mort_acc']\n",
        "df_group"
      ],
      "execution_count": 441,
      "outputs": [
        {
          "output_type": "execute_result",
          "data": {
            "text/plain": [
              "total_acc\n",
              "2.0      0.000000\n",
              "3.0      0.052023\n",
              "4.0      0.066743\n",
              "5.0      0.103289\n",
              "6.0      0.151293\n",
              "           ...   \n",
              "124.0    1.000000\n",
              "129.0    1.000000\n",
              "135.0    3.000000\n",
              "150.0    2.000000\n",
              "151.0    0.000000\n",
              "Name: mort_acc, Length: 118, dtype: float64"
            ]
          },
          "metadata": {
            "tags": []
          },
          "execution_count": 441
        }
      ]
    },
    {
      "cell_type": "code",
      "metadata": {
        "id": "iSKjWeNKXyvC",
        "colab_type": "code",
        "colab": {}
      },
      "source": [
        "def calc(x):\n",
        "  if np.isnan(x['mort_acc']):\n",
        "    return df_group[x['total_acc']]\n",
        "  else:\n",
        "    return x['mort_acc']\n",
        "\n",
        "df['mort_acc'] = df.apply(calc, axis=1)"
      ],
      "execution_count": 0,
      "outputs": []
    },
    {
      "cell_type": "markdown",
      "metadata": {
        "id": "tcIoGVbShaOb",
        "colab_type": "text"
      },
      "source": [
        "**Let's drop the remaining rows with missing values**"
      ]
    },
    {
      "cell_type": "code",
      "metadata": {
        "id": "dVuWchGLhCw5",
        "colab_type": "code",
        "colab": {}
      },
      "source": [
        "df.dropna(inplace=True)"
      ],
      "execution_count": 0,
      "outputs": []
    },
    {
      "cell_type": "markdown",
      "metadata": {
        "id": "xY2uTPjqh5pS",
        "colab_type": "text"
      },
      "source": [
        "## One Hot Encoding"
      ]
    },
    {
      "cell_type": "markdown",
      "metadata": {
        "id": "2oC4r9QViVk7",
        "colab_type": "text"
      },
      "source": [
        "**First, let's list all the categorical variables**"
      ]
    },
    {
      "cell_type": "code",
      "metadata": {
        "id": "IL-50Uobhs8b",
        "colab_type": "code",
        "colab": {
          "base_uri": "https://localhost:8080/",
          "height": 84
        },
        "outputId": "c16e9a93-eab1-457d-bd0a-b23a68e470d8"
      },
      "source": [
        "df.select_dtypes('object').columns"
      ],
      "execution_count": 444,
      "outputs": [
        {
          "output_type": "execute_result",
          "data": {
            "text/plain": [
              "Index(['term', 'grade', 'sub_grade', 'home_ownership', 'verification_status',\n",
              "       'issue_d', 'loan_status', 'purpose', 'earliest_cr_line',\n",
              "       'initial_list_status', 'application_type', 'address'],\n",
              "      dtype='object')"
            ]
          },
          "metadata": {
            "tags": []
          },
          "execution_count": 444
        }
      ]
    },
    {
      "cell_type": "markdown",
      "metadata": {
        "id": "q9Pd60mllMkB",
        "colab_type": "text"
      },
      "source": [
        "**We will map the value 36 months to 36 and 60 months to 60 in the term attribute**"
      ]
    },
    {
      "cell_type": "code",
      "metadata": {
        "id": "1Kt-wPJAiPYY",
        "colab_type": "code",
        "colab": {
          "base_uri": "https://localhost:8080/",
          "height": 67
        },
        "outputId": "fc6785a4-5419-4c24-c502-7662e99f939f"
      },
      "source": [
        "df['term'].value_counts()"
      ],
      "execution_count": 445,
      "outputs": [
        {
          "output_type": "execute_result",
          "data": {
            "text/plain": [
              " 36 months    301247\n",
              " 60 months     93972\n",
              "Name: term, dtype: int64"
            ]
          },
          "metadata": {
            "tags": []
          },
          "execution_count": 445
        }
      ]
    },
    {
      "cell_type": "code",
      "metadata": {
        "id": "a37vchUyjKtu",
        "colab_type": "code",
        "colab": {}
      },
      "source": [
        "df['term'] = df['term'].map({df['term'].value_counts().index[0]:36,df['term'].value_counts().index[1]:60})"
      ],
      "execution_count": 0,
      "outputs": []
    },
    {
      "cell_type": "markdown",
      "metadata": {
        "id": "-dH8_0MckqzG",
        "colab_type": "text"
      },
      "source": [
        "**The information presented by the grade feature is aready contained within the subgrade feature. Therefore, this feature can be dropped**"
      ]
    },
    {
      "cell_type": "code",
      "metadata": {
        "id": "6RWdcHRCjeCe",
        "colab_type": "code",
        "colab": {}
      },
      "source": [
        "df.drop('grade',axis=1,inplace=True)"
      ],
      "execution_count": 0,
      "outputs": []
    },
    {
      "cell_type": "markdown",
      "metadata": {
        "id": "ejlDwVMolIm_",
        "colab_type": "text"
      },
      "source": [
        "**Let's create dummies for sub_grade,verification_status,application_type,initial_list_status and purpose**"
      ]
    },
    {
      "cell_type": "code",
      "metadata": {
        "id": "J85bnVgRk7Np",
        "colab_type": "code",
        "colab": {}
      },
      "source": [
        "df = df.drop('sub_grade',axis = 1).join(pd.get_dummies(df['sub_grade'],drop_first=False))"
      ],
      "execution_count": 0,
      "outputs": []
    },
    {
      "cell_type": "code",
      "metadata": {
        "id": "E7jimDaulXDV",
        "colab_type": "code",
        "colab": {}
      },
      "source": [
        "df = df.drop('verification_status',axis = 1).join(pd.get_dummies(df['verification_status'],drop_first=False))"
      ],
      "execution_count": 0,
      "outputs": []
    },
    {
      "cell_type": "code",
      "metadata": {
        "id": "CYJbGCoRmy9T",
        "colab_type": "code",
        "colab": {}
      },
      "source": [
        "df = df.drop('application_type',axis = 1).join(pd.get_dummies(df['application_type'],drop_first=False))"
      ],
      "execution_count": 0,
      "outputs": []
    },
    {
      "cell_type": "code",
      "metadata": {
        "id": "ZeliU0mansaE",
        "colab_type": "code",
        "colab": {}
      },
      "source": [
        "df = df.drop('initial_list_status',axis = 1).join(pd.get_dummies(df['initial_list_status'],drop_first=True))"
      ],
      "execution_count": 0,
      "outputs": []
    },
    {
      "cell_type": "code",
      "metadata": {
        "id": "24aB-8hLnuLq",
        "colab_type": "code",
        "colab": {}
      },
      "source": [
        "df = df.drop('purpose',axis = 1).join(pd.get_dummies(df['purpose'],drop_first=False))"
      ],
      "execution_count": 0,
      "outputs": []
    },
    {
      "cell_type": "markdown",
      "metadata": {
        "id": "IJkvCbStouQE",
        "colab_type": "text"
      },
      "source": [
        "**For home_ownership we will replace NONE and ANY with OTHER, so that we end up with just 4 categories, MORTGAGE, RENT, OWN, OTHER.**"
      ]
    },
    {
      "cell_type": "code",
      "metadata": {
        "id": "by9svt8MoB-_",
        "colab_type": "code",
        "colab": {
          "base_uri": "https://localhost:8080/",
          "height": 134
        },
        "outputId": "2fbfdcd9-9b02-46e4-b1ce-434f2d121d29"
      },
      "source": [
        "df['home_ownership'].value_counts()"
      ],
      "execution_count": 453,
      "outputs": [
        {
          "output_type": "execute_result",
          "data": {
            "text/plain": [
              "MORTGAGE    198022\n",
              "RENT        159395\n",
              "OWN          37660\n",
              "OTHER          110\n",
              "NONE            29\n",
              "ANY              3\n",
              "Name: home_ownership, dtype: int64"
            ]
          },
          "metadata": {
            "tags": []
          },
          "execution_count": 453
        }
      ]
    },
    {
      "cell_type": "code",
      "metadata": {
        "id": "tcprO78mpBD6",
        "colab_type": "code",
        "colab": {}
      },
      "source": [
        "df['home_ownership'] = np.where((df['home_ownership'] == 'ANY') | (df['home_ownership'] == 'NONE'),'OTHER',df['home_ownership'])"
      ],
      "execution_count": 0,
      "outputs": []
    },
    {
      "cell_type": "code",
      "metadata": {
        "id": "6dsQtozZpcR-",
        "colab_type": "code",
        "colab": {}
      },
      "source": [
        "df = df.drop('home_ownership',axis = 1).join(pd.get_dummies(df['home_ownership'],drop_first=False))"
      ],
      "execution_count": 0,
      "outputs": []
    },
    {
      "cell_type": "markdown",
      "metadata": {
        "id": "fte2dJOHv-Lj",
        "colab_type": "text"
      },
      "source": [
        "**Let's feature engineer a zip code column from the address in the data set.**"
      ]
    },
    {
      "cell_type": "code",
      "metadata": {
        "id": "_mk9lf7dppAK",
        "colab_type": "code",
        "colab": {
          "base_uri": "https://localhost:8080/",
          "height": 218
        },
        "outputId": "41af7b77-8dda-4894-ad04-20189137a729"
      },
      "source": [
        "df['address'].value_counts()"
      ],
      "execution_count": 456,
      "outputs": [
        {
          "output_type": "execute_result",
          "data": {
            "text/plain": [
              "USS Johnson\\nFPO AE 48052                                  8\n",
              "USCGC Smith\\nFPO AE 70466                                  8\n",
              "USS Smith\\nFPO AP 70466                                    8\n",
              "USNS Johnson\\nFPO AE 05113                                 8\n",
              "USNS Johnson\\nFPO AP 48052                                 7\n",
              "                                                          ..\n",
              "26496 Fernandez Trail Apt. 297\\nNew Aprilfurt, CT 48052    1\n",
              "84431 Adams Mountains\\nSouth Davidport, AZ 48052           1\n",
              "94644 Barnes Burgs Apt. 078\\nJonathanton, IL 93700         1\n",
              "173 Williams Run Apt. 192\\nDouglasland, MT 48052           1\n",
              "3201 Espinoza Street\\nPort Barbaraborough, CA 30723        1\n",
              "Name: address, Length: 392898, dtype: int64"
            ]
          },
          "metadata": {
            "tags": []
          },
          "execution_count": 456
        }
      ]
    },
    {
      "cell_type": "code",
      "metadata": {
        "id": "10oiZ5vMvtFx",
        "colab_type": "code",
        "colab": {}
      },
      "source": [
        "df['zip_code'] = df['address'].apply(lambda x: x[-5:])"
      ],
      "execution_count": 0,
      "outputs": []
    },
    {
      "cell_type": "code",
      "metadata": {
        "id": "4cyRTXRpwrg9",
        "colab_type": "code",
        "colab": {}
      },
      "source": [
        "df = df.drop(['address','zip_code'],axis = 1).join(pd.get_dummies(df['zip_code'],drop_first=False))"
      ],
      "execution_count": 0,
      "outputs": []
    },
    {
      "cell_type": "markdown",
      "metadata": {
        "id": "1F6nzK_1xASn",
        "colab_type": "text"
      },
      "source": [
        "**Since we wouldn't know beforehand whether or not a loan would be issued when using our model, we wouldn't have an issue_date. We will drop this feature.**"
      ]
    },
    {
      "cell_type": "code",
      "metadata": {
        "id": "LRYYTa95w1Nu",
        "colab_type": "code",
        "colab": {}
      },
      "source": [
        "df.drop('issue_d',axis=1,inplace=True)"
      ],
      "execution_count": 0,
      "outputs": []
    },
    {
      "cell_type": "markdown",
      "metadata": {
        "id": "Pisw_LtUx779",
        "colab_type": "text"
      },
      "source": [
        "**Let's extract the year from the earliest_cr_line feature**"
      ]
    },
    {
      "cell_type": "code",
      "metadata": {
        "id": "aKb_Fhe1xM4G",
        "colab_type": "code",
        "colab": {
          "base_uri": "https://localhost:8080/",
          "height": 218
        },
        "outputId": "97f371fc-88c6-4324-ec89-66c7b2460ccd"
      },
      "source": [
        "df['earliest_cr_line'].value_counts()"
      ],
      "execution_count": 460,
      "outputs": [
        {
          "output_type": "execute_result",
          "data": {
            "text/plain": [
              "Oct-2000    3013\n",
              "Aug-2000    2930\n",
              "Oct-2001    2890\n",
              "Aug-2001    2879\n",
              "Nov-2000    2729\n",
              "            ... \n",
              "Mar-1960       1\n",
              "Aug-1962       1\n",
              "Jan-1957       1\n",
              "Apr-1960       1\n",
              "Jun-1959       1\n",
              "Name: earliest_cr_line, Length: 684, dtype: int64"
            ]
          },
          "metadata": {
            "tags": []
          },
          "execution_count": 460
        }
      ]
    },
    {
      "cell_type": "code",
      "metadata": {
        "id": "zPUTHQCDxy3z",
        "colab_type": "code",
        "colab": {}
      },
      "source": [
        "df['earliest_cr_year'] = df['earliest_cr_line'].apply(lambda x: x[-4:])"
      ],
      "execution_count": 0,
      "outputs": []
    },
    {
      "cell_type": "code",
      "metadata": {
        "id": "VmF2h9htyHeS",
        "colab_type": "code",
        "colab": {}
      },
      "source": [
        "df['earliest_cr_year'] = df['earliest_cr_year'].astype('int64')"
      ],
      "execution_count": 0,
      "outputs": []
    },
    {
      "cell_type": "code",
      "metadata": {
        "id": "YZrVZW5mycUv",
        "colab_type": "code",
        "colab": {}
      },
      "source": [
        "df.drop('earliest_cr_line',axis=1,inplace=True)"
      ],
      "execution_count": 0,
      "outputs": []
    },
    {
      "cell_type": "markdown",
      "metadata": {
        "id": "w6JBzzEAz6RY",
        "colab_type": "text"
      },
      "source": [
        "# Hold Out Method"
      ]
    },
    {
      "cell_type": "code",
      "metadata": {
        "id": "F_trsHQW0E0X",
        "colab_type": "code",
        "colab": {}
      },
      "source": [
        "df.drop('loan_status',axis=1,inplace=True)"
      ],
      "execution_count": 0,
      "outputs": []
    },
    {
      "cell_type": "code",
      "metadata": {
        "id": "GVdLo8wYyj3F",
        "colab_type": "code",
        "colab": {}
      },
      "source": [
        "X = df.drop('loan_repaid',axis=1).values\n",
        "y = df['loan_repaid'].values"
      ],
      "execution_count": 0,
      "outputs": []
    },
    {
      "cell_type": "code",
      "metadata": {
        "id": "7KkEH3kHz-yW",
        "colab_type": "code",
        "colab": {}
      },
      "source": [
        "X_train, X_test, y_train, y_test = train_test_split(X, y, test_size=0.2, random_state=101)"
      ],
      "execution_count": 0,
      "outputs": []
    },
    {
      "cell_type": "markdown",
      "metadata": {
        "id": "GtFMVDoWQTOt",
        "colab_type": "text"
      },
      "source": [
        "# Scaling"
      ]
    },
    {
      "cell_type": "code",
      "metadata": {
        "id": "k2_HOnxG0VuZ",
        "colab_type": "code",
        "colab": {}
      },
      "source": [
        "minmax = MinMaxScaler()"
      ],
      "execution_count": 0,
      "outputs": []
    },
    {
      "cell_type": "code",
      "metadata": {
        "id": "SStGIvEPQYTg",
        "colab_type": "code",
        "colab": {
          "base_uri": "https://localhost:8080/",
          "height": 34
        },
        "outputId": "aa501e8f-1258-46f6-d867-51d76ccec06f"
      },
      "source": [
        "minmax.fit(X_train)"
      ],
      "execution_count": 468,
      "outputs": [
        {
          "output_type": "execute_result",
          "data": {
            "text/plain": [
              "MinMaxScaler(copy=True, feature_range=(0, 1))"
            ]
          },
          "metadata": {
            "tags": []
          },
          "execution_count": 468
        }
      ]
    },
    {
      "cell_type": "code",
      "metadata": {
        "id": "iHrdlV2KQgzL",
        "colab_type": "code",
        "colab": {}
      },
      "source": [
        "X_train = minmax.transform(X_train)"
      ],
      "execution_count": 0,
      "outputs": []
    },
    {
      "cell_type": "code",
      "metadata": {
        "id": "iiIgvLxCQnlK",
        "colab_type": "code",
        "colab": {}
      },
      "source": [
        "X_test = minmax.transform(X_test)"
      ],
      "execution_count": 0,
      "outputs": []
    },
    {
      "cell_type": "markdown",
      "metadata": {
        "id": "AACYm6yFQv8F",
        "colab_type": "text"
      },
      "source": [
        "# Data Modeling"
      ]
    },
    {
      "cell_type": "code",
      "metadata": {
        "id": "enoouyiVQsUT",
        "colab_type": "code",
        "colab": {}
      },
      "source": [
        "model = Sequential()\n",
        "\n",
        "model.add(Dense(78,'relu'))\n",
        "model.add(Dense(39,'relu'))\n",
        "model.add(Dense(19,'relu'))\n",
        "model.add(Dense(1,'sigmoid'))\n",
        "\n",
        "model.compile(loss='binary_crossentropy', optimizer='sgd')"
      ],
      "execution_count": 0,
      "outputs": []
    },
    {
      "cell_type": "code",
      "metadata": {
        "id": "5FWuCdTCREnC",
        "colab_type": "code",
        "colab": {}
      },
      "source": [
        "early_stop = EarlyStopping(monitor='val_loss',mode=\"min\",patience=20)"
      ],
      "execution_count": 0,
      "outputs": []
    },
    {
      "cell_type": "code",
      "metadata": {
        "id": "P6NOd0HKSB-7",
        "colab_type": "code",
        "colab": {
          "base_uri": "https://localhost:8080/",
          "height": 1000
        },
        "outputId": "c5dff52c-5267-4bbe-d034-2cdb3045a75f"
      },
      "source": [
        "model.fit(x=X_train,y = y_train,epochs=1000,validation_data=(X_test,y_test),\n",
        "          callbacks = [early_stop],batch_size = 256)"
      ],
      "execution_count": 473,
      "outputs": [
        {
          "output_type": "stream",
          "text": [
            "Epoch 1/1000\n",
            "1236/1236 [==============================] - 3s 3ms/step - loss: 0.4738 - val_loss: 0.4123\n",
            "Epoch 2/1000\n",
            "1236/1236 [==============================] - 3s 2ms/step - loss: 0.3377 - val_loss: 0.2910\n",
            "Epoch 3/1000\n",
            "1236/1236 [==============================] - 3s 2ms/step - loss: 0.2752 - val_loss: 0.2716\n",
            "Epoch 4/1000\n",
            "1236/1236 [==============================] - 3s 2ms/step - loss: 0.2662 - val_loss: 0.2696\n",
            "Epoch 5/1000\n",
            "1236/1236 [==============================] - 3s 2ms/step - loss: 0.2638 - val_loss: 0.2700\n",
            "Epoch 6/1000\n",
            "1236/1236 [==============================] - 3s 2ms/step - loss: 0.2626 - val_loss: 0.2646\n",
            "Epoch 7/1000\n",
            "1236/1236 [==============================] - 3s 2ms/step - loss: 0.2620 - val_loss: 0.2712\n",
            "Epoch 8/1000\n",
            "1236/1236 [==============================] - 3s 3ms/step - loss: 0.2615 - val_loss: 0.2640\n",
            "Epoch 9/1000\n",
            "1236/1236 [==============================] - 3s 2ms/step - loss: 0.2611 - val_loss: 0.2633\n",
            "Epoch 10/1000\n",
            "1236/1236 [==============================] - 3s 2ms/step - loss: 0.2609 - val_loss: 0.2636\n",
            "Epoch 11/1000\n",
            "1236/1236 [==============================] - 3s 2ms/step - loss: 0.2605 - val_loss: 0.2684\n",
            "Epoch 12/1000\n",
            "1236/1236 [==============================] - 3s 2ms/step - loss: 0.2604 - val_loss: 0.2834\n",
            "Epoch 13/1000\n",
            "1236/1236 [==============================] - 3s 2ms/step - loss: 0.2602 - val_loss: 0.2866\n",
            "Epoch 14/1000\n",
            "1236/1236 [==============================] - 3s 2ms/step - loss: 0.2601 - val_loss: 0.2672\n",
            "Epoch 15/1000\n",
            "1236/1236 [==============================] - 3s 2ms/step - loss: 0.2599 - val_loss: 0.3289\n",
            "Epoch 16/1000\n",
            "1236/1236 [==============================] - 3s 2ms/step - loss: 0.2598 - val_loss: 0.2649\n",
            "Epoch 17/1000\n",
            "1236/1236 [==============================] - 3s 2ms/step - loss: 0.2596 - val_loss: 0.2707\n",
            "Epoch 18/1000\n",
            "1236/1236 [==============================] - 3s 2ms/step - loss: 0.2596 - val_loss: 0.2639\n",
            "Epoch 19/1000\n",
            "1236/1236 [==============================] - 3s 2ms/step - loss: 0.2594 - val_loss: 0.2634\n",
            "Epoch 20/1000\n",
            "1236/1236 [==============================] - 3s 2ms/step - loss: 0.2594 - val_loss: 0.2637\n",
            "Epoch 21/1000\n",
            "1236/1236 [==============================] - 3s 2ms/step - loss: 0.2593 - val_loss: 0.2784\n",
            "Epoch 22/1000\n",
            "1236/1236 [==============================] - 3s 2ms/step - loss: 0.2592 - val_loss: 0.2788\n",
            "Epoch 23/1000\n",
            "1236/1236 [==============================] - 3s 3ms/step - loss: 0.2592 - val_loss: 0.2630\n",
            "Epoch 24/1000\n",
            "1236/1236 [==============================] - 3s 3ms/step - loss: 0.2592 - val_loss: 0.2622\n",
            "Epoch 25/1000\n",
            "1236/1236 [==============================] - 3s 2ms/step - loss: 0.2590 - val_loss: 0.2677\n",
            "Epoch 26/1000\n",
            "1236/1236 [==============================] - 3s 2ms/step - loss: 0.2590 - val_loss: 0.2615\n",
            "Epoch 27/1000\n",
            "1236/1236 [==============================] - 3s 2ms/step - loss: 0.2589 - val_loss: 0.2625\n",
            "Epoch 28/1000\n",
            "1236/1236 [==============================] - 3s 2ms/step - loss: 0.2589 - val_loss: 0.2896\n",
            "Epoch 29/1000\n",
            "1236/1236 [==============================] - 3s 2ms/step - loss: 0.2589 - val_loss: 0.2914\n",
            "Epoch 30/1000\n",
            "1236/1236 [==============================] - 3s 2ms/step - loss: 0.2588 - val_loss: 0.2619\n",
            "Epoch 31/1000\n",
            "1236/1236 [==============================] - 3s 2ms/step - loss: 0.2588 - val_loss: 0.2613\n",
            "Epoch 32/1000\n",
            "1236/1236 [==============================] - 3s 2ms/step - loss: 0.2587 - val_loss: 0.2620\n",
            "Epoch 33/1000\n",
            "1236/1236 [==============================] - 3s 2ms/step - loss: 0.2587 - val_loss: 0.2732\n",
            "Epoch 34/1000\n",
            "1236/1236 [==============================] - 3s 2ms/step - loss: 0.2587 - val_loss: 0.2785\n",
            "Epoch 35/1000\n",
            "1236/1236 [==============================] - 3s 2ms/step - loss: 0.2586 - val_loss: 0.2627\n",
            "Epoch 36/1000\n",
            "1236/1236 [==============================] - 3s 2ms/step - loss: 0.2586 - val_loss: 0.2626\n",
            "Epoch 37/1000\n",
            "1236/1236 [==============================] - 3s 2ms/step - loss: 0.2586 - val_loss: 0.2618\n",
            "Epoch 38/1000\n",
            "1236/1236 [==============================] - 3s 2ms/step - loss: 0.2585 - val_loss: 0.2619\n",
            "Epoch 39/1000\n",
            "1236/1236 [==============================] - 3s 2ms/step - loss: 0.2584 - val_loss: 0.2619\n",
            "Epoch 40/1000\n",
            "1236/1236 [==============================] - 3s 2ms/step - loss: 0.2585 - val_loss: 0.2621\n",
            "Epoch 41/1000\n",
            "1236/1236 [==============================] - 3s 2ms/step - loss: 0.2584 - val_loss: 0.2800\n",
            "Epoch 42/1000\n",
            "1236/1236 [==============================] - 3s 2ms/step - loss: 0.2583 - val_loss: 0.2618\n",
            "Epoch 43/1000\n",
            "1236/1236 [==============================] - 3s 2ms/step - loss: 0.2583 - val_loss: 0.2688\n",
            "Epoch 44/1000\n",
            "1236/1236 [==============================] - 3s 2ms/step - loss: 0.2584 - val_loss: 0.2617\n",
            "Epoch 45/1000\n",
            "1236/1236 [==============================] - 3s 2ms/step - loss: 0.2582 - val_loss: 0.2680\n",
            "Epoch 46/1000\n",
            "1236/1236 [==============================] - 3s 2ms/step - loss: 0.2583 - val_loss: 0.2714\n",
            "Epoch 47/1000\n",
            "1236/1236 [==============================] - 3s 2ms/step - loss: 0.2583 - val_loss: 0.2639\n",
            "Epoch 48/1000\n",
            "1236/1236 [==============================] - 3s 2ms/step - loss: 0.2582 - val_loss: 0.2611\n",
            "Epoch 49/1000\n",
            "1236/1236 [==============================] - 3s 2ms/step - loss: 0.2582 - val_loss: 0.2667\n",
            "Epoch 50/1000\n",
            "1236/1236 [==============================] - 3s 2ms/step - loss: 0.2582 - val_loss: 0.2723\n",
            "Epoch 51/1000\n",
            "1236/1236 [==============================] - 3s 2ms/step - loss: 0.2583 - val_loss: 0.2713\n",
            "Epoch 52/1000\n",
            "1236/1236 [==============================] - 3s 2ms/step - loss: 0.2582 - val_loss: 0.2611\n",
            "Epoch 53/1000\n",
            "1236/1236 [==============================] - 3s 2ms/step - loss: 0.2582 - val_loss: 0.2640\n",
            "Epoch 54/1000\n",
            "1236/1236 [==============================] - 3s 2ms/step - loss: 0.2581 - val_loss: 0.3015\n",
            "Epoch 55/1000\n",
            "1236/1236 [==============================] - 3s 2ms/step - loss: 0.2582 - val_loss: 0.2629\n",
            "Epoch 56/1000\n",
            "1236/1236 [==============================] - 3s 2ms/step - loss: 0.2580 - val_loss: 0.2751\n",
            "Epoch 57/1000\n",
            "1236/1236 [==============================] - 3s 2ms/step - loss: 0.2581 - val_loss: 0.2831\n",
            "Epoch 58/1000\n",
            "1236/1236 [==============================] - 3s 2ms/step - loss: 0.2580 - val_loss: 0.2633\n",
            "Epoch 59/1000\n",
            "1236/1236 [==============================] - 3s 2ms/step - loss: 0.2579 - val_loss: 0.2769\n",
            "Epoch 60/1000\n",
            "1236/1236 [==============================] - 3s 2ms/step - loss: 0.2580 - val_loss: 0.2633\n",
            "Epoch 61/1000\n",
            "1236/1236 [==============================] - 3s 2ms/step - loss: 0.2580 - val_loss: 0.2871\n",
            "Epoch 62/1000\n",
            "1236/1236 [==============================] - 3s 2ms/step - loss: 0.2580 - val_loss: 0.2611\n",
            "Epoch 63/1000\n",
            "1236/1236 [==============================] - 3s 2ms/step - loss: 0.2580 - val_loss: 0.2658\n",
            "Epoch 64/1000\n",
            "1236/1236 [==============================] - 3s 2ms/step - loss: 0.2579 - val_loss: 0.2690\n",
            "Epoch 65/1000\n",
            "1236/1236 [==============================] - 3s 2ms/step - loss: 0.2579 - val_loss: 0.2612\n",
            "Epoch 66/1000\n",
            "1236/1236 [==============================] - 3s 2ms/step - loss: 0.2580 - val_loss: 0.2625\n",
            "Epoch 67/1000\n",
            "1236/1236 [==============================] - 5s 4ms/step - loss: 0.2579 - val_loss: 0.2632\n",
            "Epoch 68/1000\n",
            "1236/1236 [==============================] - 3s 3ms/step - loss: 0.2578 - val_loss: 0.2620\n",
            "Epoch 69/1000\n",
            "1236/1236 [==============================] - 3s 2ms/step - loss: 0.2579 - val_loss: 0.2687\n",
            "Epoch 70/1000\n",
            "1236/1236 [==============================] - 3s 2ms/step - loss: 0.2578 - val_loss: 0.2613\n",
            "Epoch 71/1000\n",
            "1236/1236 [==============================] - 3s 2ms/step - loss: 0.2577 - val_loss: 0.2695\n",
            "Epoch 72/1000\n",
            "1236/1236 [==============================] - 3s 2ms/step - loss: 0.2579 - val_loss: 0.2673\n",
            "Epoch 73/1000\n",
            "1236/1236 [==============================] - 3s 2ms/step - loss: 0.2578 - val_loss: 0.2630\n",
            "Epoch 74/1000\n",
            "1236/1236 [==============================] - 3s 2ms/step - loss: 0.2578 - val_loss: 0.2660\n",
            "Epoch 75/1000\n",
            "1236/1236 [==============================] - 3s 2ms/step - loss: 0.2577 - val_loss: 0.2622\n",
            "Epoch 76/1000\n",
            "1236/1236 [==============================] - 3s 2ms/step - loss: 0.2577 - val_loss: 0.2613\n",
            "Epoch 77/1000\n",
            "1236/1236 [==============================] - 3s 2ms/step - loss: 0.2577 - val_loss: 0.3277\n",
            "Epoch 78/1000\n",
            "1236/1236 [==============================] - 3s 2ms/step - loss: 0.2578 - val_loss: 0.2832\n",
            "Epoch 79/1000\n",
            "1236/1236 [==============================] - 3s 2ms/step - loss: 0.2577 - val_loss: 0.2616\n",
            "Epoch 80/1000\n",
            "1236/1236 [==============================] - 3s 2ms/step - loss: 0.2576 - val_loss: 0.2613\n",
            "Epoch 81/1000\n",
            "1236/1236 [==============================] - 3s 2ms/step - loss: 0.2576 - val_loss: 0.2685\n",
            "Epoch 82/1000\n",
            "1236/1236 [==============================] - 3s 2ms/step - loss: 0.2575 - val_loss: 0.2648\n"
          ],
          "name": "stdout"
        },
        {
          "output_type": "execute_result",
          "data": {
            "text/plain": [
              "<tensorflow.python.keras.callbacks.History at 0x7faba757b400>"
            ]
          },
          "metadata": {
            "tags": []
          },
          "execution_count": 473
        }
      ]
    },
    {
      "cell_type": "markdown",
      "metadata": {
        "id": "0257bLEyS_Y8",
        "colab_type": "text"
      },
      "source": [
        "**Model Loss**\n",
        "\n",
        "\n",
        "**The below figure shows the number of epochs at which the loss values flatten out, we have selected a patience value of 20, which means that the model will continue to execute for 20 epochs after the curve flattens to ensure that there is no subsequent change in loss value**\n",
        "\n"
      ]
    },
    {
      "cell_type": "code",
      "metadata": {
        "id": "x1J_VHDySKlV",
        "colab_type": "code",
        "colab": {}
      },
      "source": [
        "model_loss = pd.DataFrame(model.history.history)"
      ],
      "execution_count": 0,
      "outputs": []
    },
    {
      "cell_type": "code",
      "metadata": {
        "id": "oEygH2AVTJKz",
        "colab_type": "code",
        "colab": {
          "base_uri": "https://localhost:8080/",
          "height": 282
        },
        "outputId": "20cfc902-27db-4642-c6ab-0d0233dfa419"
      },
      "source": [
        "model_loss.plot()"
      ],
      "execution_count": 475,
      "outputs": [
        {
          "output_type": "execute_result",
          "data": {
            "text/plain": [
              "<matplotlib.axes._subplots.AxesSubplot at 0x7fabaedaea20>"
            ]
          },
          "metadata": {
            "tags": []
          },
          "execution_count": 475
        },
        {
          "output_type": "display_data",
          "data": {
            "image/png": "[encoded data removed]",
            "text/plain": [
              "<Figure size 432x288 with 1 Axes>"
            ]
          },
          "metadata": {
            "tags": [],
            "needs_background": "light"
          }
        }
      ]
    },
    {
      "cell_type": "code",
      "metadata": {
        "id": "Z5NCNEiPTMHR",
        "colab_type": "code",
        "colab": {}
      },
      "source": [
        "pred = np.stack(model.predict_classes(X_test),axis =1)[0]"
      ],
      "execution_count": 0,
      "outputs": []
    },
    {
      "cell_type": "code",
      "metadata": {
        "id": "uRLd9Ju4TXNx",
        "colab_type": "code",
        "colab": {
          "base_uri": "https://localhost:8080/",
          "height": 367
        },
        "outputId": "6fa1f4fe-aa15-482a-d3f7-17fc7925d0ca"
      },
      "source": [
        "print(classification_report(y_test,pred))\n",
        "print(\"Accuracy Score: \",accuracy_score(y_test,pred))\n",
        "print(\"Recall Score: \",recall_score(y_test,pred))\n",
        "print(\"F1 Score: \",f1_score(y_test,pred))\n",
        "pd.crosstab(y_test, pred, rownames=['True'], colnames=['Predicted'], margins=True)"
      ],
      "execution_count": 477,
      "outputs": [
        {
          "output_type": "stream",
          "text": [
            "              precision    recall  f1-score   support\n",
            "\n",
            "           0       1.00      0.43      0.60     15658\n",
            "           1       0.88      1.00      0.93     63386\n",
            "\n",
            "    accuracy                           0.89     79044\n",
            "   macro avg       0.94      0.72      0.77     79044\n",
            "weighted avg       0.90      0.89      0.87     79044\n",
            "\n",
            "Accuracy Score:  0.886873133950711\n",
            "Recall Score:  0.9995898147855994\n",
            "F1 Score:  0.9340861847827691\n"
          ],
          "name": "stdout"
        },
        {
          "output_type": "execute_result",
          "data": {
            "text/html": [
              "<div>\n",
              "<style scoped>\n",
              "    .dataframe tbody tr th:only-of-type {\n",
              "        vertical-align: middle;\n",
              "    }\n",
              "\n",
              "    .dataframe tbody tr th {\n",
              "        vertical-align: top;\n",
              "    }\n",
              "\n",
              "    .dataframe thead th {\n",
              "        text-align: right;\n",
              "    }\n",
              "</style>\n",
              "<table border=\"1\" class=\"dataframe\">\n",
              "  <thead>\n",
              "    <tr style=\"text-align: right;\">\n",
              "      <th>Predicted</th>\n",
              "      <th>0</th>\n",
              "      <th>1</th>\n",
              "      <th>All</th>\n",
              "    </tr>\n",
              "    <tr>\n",
              "      <th>True</th>\n",
              "      <th></th>\n",
              "      <th></th>\n",
              "      <th></th>\n",
              "    </tr>\n",
              "  </thead>\n",
              "  <tbody>\n",
              "    <tr>\n",
              "      <th>0</th>\n",
              "      <td>6742</td>\n",
              "      <td>8916</td>\n",
              "      <td>15658</td>\n",
              "    </tr>\n",
              "    <tr>\n",
              "      <th>1</th>\n",
              "      <td>26</td>\n",
              "      <td>63360</td>\n",
              "      <td>63386</td>\n",
              "    </tr>\n",
              "    <tr>\n",
              "      <th>All</th>\n",
              "      <td>6768</td>\n",
              "      <td>72276</td>\n",
              "      <td>79044</td>\n",
              "    </tr>\n",
              "  </tbody>\n",
              "</table>\n",
              "</div>"
            ],
            "text/plain": [
              "Predicted     0      1    All\n",
              "True                         \n",
              "0          6742   8916  15658\n",
              "1            26  63360  63386\n",
              "All        6768  72276  79044"
            ]
          },
          "metadata": {
            "tags": []
          },
          "execution_count": 477
        }
      ]
    },
    {
      "cell_type": "code",
      "metadata": {
        "id": "qoviKBx4Ti0W",
        "colab_type": "code",
        "colab": {}
      },
      "source": [
        ""
      ],
      "execution_count": 0,
      "outputs": []
    }
  ]
}